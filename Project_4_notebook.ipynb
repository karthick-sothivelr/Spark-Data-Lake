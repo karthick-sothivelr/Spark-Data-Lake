{
 "cells": [
  {
   "cell_type": "code",
   "execution_count": 1,
   "metadata": {
    "editable": true
   },
   "outputs": [
    {
     "name": "stdout",
     "output_type": "stream",
     "text": [
      "Archive:  ./data/log-data.zip\n",
      "  inflating: ./data/log_data/2018-11-01-events.json  \n",
      "  inflating: ./data/log_data/2018-11-02-events.json  \n",
      "  inflating: ./data/log_data/2018-11-03-events.json  \n",
      "  inflating: ./data/log_data/2018-11-04-events.json  \n",
      "  inflating: ./data/log_data/2018-11-05-events.json  \n",
      "  inflating: ./data/log_data/2018-11-06-events.json  \n",
      "  inflating: ./data/log_data/2018-11-07-events.json  \n",
      "  inflating: ./data/log_data/2018-11-08-events.json  \n",
      "  inflating: ./data/log_data/2018-11-09-events.json  \n",
      "  inflating: ./data/log_data/2018-11-10-events.json  \n",
      "  inflating: ./data/log_data/2018-11-11-events.json  \n",
      "  inflating: ./data/log_data/2018-11-12-events.json  \n",
      "  inflating: ./data/log_data/2018-11-13-events.json  \n",
      "  inflating: ./data/log_data/2018-11-14-events.json  \n",
      "  inflating: ./data/log_data/2018-11-15-events.json  \n",
      "  inflating: ./data/log_data/2018-11-16-events.json  \n",
      "  inflating: ./data/log_data/2018-11-17-events.json  \n",
      "  inflating: ./data/log_data/2018-11-18-events.json  \n",
      "  inflating: ./data/log_data/2018-11-19-events.json  \n",
      "  inflating: ./data/log_data/2018-11-20-events.json  \n",
      "  inflating: ./data/log_data/2018-11-21-events.json  \n",
      "  inflating: ./data/log_data/2018-11-22-events.json  \n",
      "  inflating: ./data/log_data/2018-11-23-events.json  \n",
      "  inflating: ./data/log_data/2018-11-24-events.json  \n",
      "  inflating: ./data/log_data/2018-11-25-events.json  \n",
      "  inflating: ./data/log_data/2018-11-26-events.json  \n",
      "  inflating: ./data/log_data/2018-11-27-events.json  \n",
      "  inflating: ./data/log_data/2018-11-28-events.json  \n",
      "  inflating: ./data/log_data/2018-11-29-events.json  \n",
      "  inflating: ./data/log_data/2018-11-30-events.json  \n",
      "Archive:  ./data/song-data.zip\n",
      "   creating: ./data/song_data/\n",
      "  inflating: ./data/song_data/.DS_Store  \n",
      "   creating: ./data/song_data/A/\n",
      "  inflating: ./data/song_data/A/.DS_Store  \n",
      "   creating: ./data/song_data/A/A/\n",
      "  inflating: ./data/song_data/A/A/.DS_Store  \n",
      "   creating: ./data/song_data/A/A/A/\n",
      "  inflating: ./data/song_data/A/A/A/TRAAAAW128F429D538.json  \n",
      "  inflating: ./data/song_data/A/A/A/TRAAABD128F429CF47.json  \n",
      "  inflating: ./data/song_data/A/A/A/TRAAADZ128F9348C2E.json  \n",
      "  inflating: ./data/song_data/A/A/A/TRAAAEF128F4273421.json  \n",
      "  inflating: ./data/song_data/A/A/A/TRAAAFD128F92F423A.json  \n",
      "  inflating: ./data/song_data/A/A/A/TRAAAMO128F1481E7F.json  \n",
      "  inflating: ./data/song_data/A/A/A/TRAAAMQ128F1460CD3.json  \n",
      "  inflating: ./data/song_data/A/A/A/TRAAAPK128E0786D96.json  \n",
      "  inflating: ./data/song_data/A/A/A/TRAAARJ128F9320760.json  \n",
      "  inflating: ./data/song_data/A/A/A/TRAAAVG12903CFA543.json  \n",
      "  inflating: ./data/song_data/A/A/A/TRAAAVO128F93133D4.json  \n",
      "   creating: ./data/song_data/A/A/B/\n",
      "  inflating: ./data/song_data/A/A/B/TRAABCL128F4286650.json  \n",
      "  inflating: ./data/song_data/A/A/B/TRAABDL12903CAABBA.json  \n",
      "  inflating: ./data/song_data/A/A/B/TRAABJL12903CDCF1A.json  \n",
      "  inflating: ./data/song_data/A/A/B/TRAABJV128F1460C49.json  \n",
      "  inflating: ./data/song_data/A/A/B/TRAABLR128F423B7E3.json  \n",
      "  inflating: ./data/song_data/A/A/B/TRAABNV128F425CEE1.json  \n",
      "  inflating: ./data/song_data/A/A/B/TRAABRB128F9306DD5.json  \n",
      "  inflating: ./data/song_data/A/A/B/TRAABVM128F92CA9DC.json  \n",
      "  inflating: ./data/song_data/A/A/B/TRAABXG128F9318EBD.json  \n",
      "  inflating: ./data/song_data/A/A/B/TRAABYN12903CFD305.json  \n",
      "  inflating: ./data/song_data/A/A/B/TRAABYW128F4244559.json  \n",
      "   creating: ./data/song_data/A/A/C/\n",
      "  inflating: ./data/song_data/A/A/C/TRAACCG128F92E8A55.json  \n",
      "  inflating: ./data/song_data/A/A/C/TRAACER128F4290F96.json  \n",
      "  inflating: ./data/song_data/A/A/C/TRAACFV128F935E50B.json  \n",
      "  inflating: ./data/song_data/A/A/C/TRAACHN128F1489601.json  \n",
      "  inflating: ./data/song_data/A/A/C/TRAACIW12903CC0F6D.json  \n",
      "  inflating: ./data/song_data/A/A/C/TRAACLV128F427E123.json  \n",
      "  inflating: ./data/song_data/A/A/C/TRAACNS128F14A2DF5.json  \n",
      "  inflating: ./data/song_data/A/A/C/TRAACOW128F933E35F.json  \n",
      "  inflating: ./data/song_data/A/A/C/TRAACPE128F421C1B9.json  \n",
      "  inflating: ./data/song_data/A/A/C/TRAACQT128F9331780.json  \n",
      "  inflating: ./data/song_data/A/A/C/TRAACSL128F93462F4.json  \n",
      "  inflating: ./data/song_data/A/A/C/TRAACTB12903CAAF15.json  \n",
      "  inflating: ./data/song_data/A/A/C/TRAACVS128E078BE39.json  \n",
      "  inflating: ./data/song_data/A/A/C/TRAACZK128F4243829.json  \n",
      "   creating: ./data/song_data/A/B/\n",
      "  inflating: ./data/song_data/A/B/.DS_Store  \n",
      "   creating: ./data/song_data/A/B/A/\n",
      "  inflating: ./data/song_data/A/B/A/TRABACN128F425B784.json  \n",
      "  inflating: ./data/song_data/A/B/A/TRABAFJ128F42AF24E.json  \n",
      "  inflating: ./data/song_data/A/B/A/TRABAFP128F931E9A1.json  \n",
      "  inflating: ./data/song_data/A/B/A/TRABAIO128F42938F9.json  \n",
      "  inflating: ./data/song_data/A/B/A/TRABATO128F42627E9.json  \n",
      "  inflating: ./data/song_data/A/B/A/TRABAVQ12903CBF7E0.json  \n",
      "  inflating: ./data/song_data/A/B/A/TRABAWW128F4250A31.json  \n",
      "  inflating: ./data/song_data/A/B/A/TRABAXL128F424FC50.json  \n",
      "  inflating: ./data/song_data/A/B/A/TRABAXR128F426515F.json  \n",
      "  inflating: ./data/song_data/A/B/A/TRABAXV128F92F6AE3.json  \n",
      "  inflating: ./data/song_data/A/B/A/TRABAZH128F930419A.json  \n",
      "   creating: ./data/song_data/A/B/B/\n",
      "  inflating: ./data/song_data/A/B/B/TRABBAM128F429D223.json  \n",
      "  inflating: ./data/song_data/A/B/B/TRABBBV128F42967D7.json  \n",
      "  inflating: ./data/song_data/A/B/B/TRABBJE12903CDB442.json  \n",
      "  inflating: ./data/song_data/A/B/B/TRABBKX128F4285205.json  \n",
      "  inflating: ./data/song_data/A/B/B/TRABBLU128F93349CF.json  \n",
      "  inflating: ./data/song_data/A/B/B/TRABBNP128F932546F.json  \n",
      "  inflating: ./data/song_data/A/B/B/TRABBOP128F931B50D.json  \n",
      "  inflating: ./data/song_data/A/B/B/TRABBOR128F4286200.json  \n",
      "  inflating: ./data/song_data/A/B/B/TRABBTA128F933D304.json  \n",
      "  inflating: ./data/song_data/A/B/B/TRABBVJ128F92F7EAA.json  \n",
      "  inflating: ./data/song_data/A/B/B/TRABBXU128F92FEF48.json  \n",
      "  inflating: ./data/song_data/A/B/B/TRABBZN12903CD9297.json  \n",
      "   creating: ./data/song_data/A/B/C/\n",
      "  inflating: ./data/song_data/A/B/C/TRABCAJ12903CDFCC2.json  \n",
      "  inflating: ./data/song_data/A/B/C/TRABCEC128F426456E.json  \n",
      "  inflating: ./data/song_data/A/B/C/TRABCEI128F424C983.json  \n",
      "  inflating: ./data/song_data/A/B/C/TRABCFL128F149BB0D.json  \n",
      "  inflating: ./data/song_data/A/B/C/TRABCIX128F4265903.json  \n",
      "  inflating: ./data/song_data/A/B/C/TRABCKL128F423A778.json  \n",
      "  inflating: ./data/song_data/A/B/C/TRABCPZ128F4275C32.json  \n",
      "  inflating: ./data/song_data/A/B/C/TRABCRU128F423F449.json  \n",
      "  inflating: ./data/song_data/A/B/C/TRABCTK128F934B224.json  \n",
      "  inflating: ./data/song_data/A/B/C/TRABCUQ128E0783E2B.json  \n",
      "  inflating: ./data/song_data/A/B/C/TRABCXB128F4286BD3.json  \n",
      "  inflating: ./data/song_data/A/B/C/TRABCYE128F934CE1D.json  \n"
     ]
    }
   ],
   "source": [
    "!unzip ./data/log-data.zip -d ./data/log_data\n",
    "!unzip ./data/song-data.zip -d ./data"
   ]
  },
  {
   "cell_type": "code",
   "execution_count": 1,
   "metadata": {
    "editable": true
   },
   "outputs": [],
   "source": [
    "!rm -r ./data/output_data"
   ]
  },
  {
   "cell_type": "code",
   "execution_count": 2,
   "metadata": {
    "editable": true
   },
   "outputs": [],
   "source": [
    "import configparser\n",
    "from datetime import datetime\n",
    "import os\n",
    "from pyspark.sql import SparkSession\n",
    "from pyspark.sql.functions import udf, col\n",
    "from pyspark.sql.functions import year, month, dayofmonth, hour, weekofyear, date_format\n",
    "from pyspark.sql import functions as F\n",
    "from pyspark.sql.types import TimestampType, StringType"
   ]
  },
  {
   "cell_type": "code",
   "execution_count": 3,
   "metadata": {
    "editable": true
   },
   "outputs": [],
   "source": [
    "config = configparser.ConfigParser()\n",
    "config.read('dl.cfg')\n",
    "\n",
    "os.environ['AWS_ACCESS_KEY_ID']=config['AWS']['AWS_ACCESS_KEY_ID']\n",
    "os.environ['AWS_SECRET_ACCESS_KEY']=config['AWS']['AWS_SECRET_ACCESS_KEY']"
   ]
  },
  {
   "cell_type": "code",
   "execution_count": 4,
   "metadata": {
    "editable": true
   },
   "outputs": [],
   "source": [
    "def create_spark_session():\n",
    "    spark = SparkSession \\\n",
    "        .builder \\\n",
    "        .config(\"spark.jars.packages\", \"org.apache.hadoop:hadoop-aws:2.7.0\") \\\n",
    "        .getOrCreate()\n",
    "    return spark"
   ]
  },
  {
   "cell_type": "markdown",
   "metadata": {
    "editable": true
   },
   "source": [
    "### Initiate SPARK session"
   ]
  },
  {
   "cell_type": "code",
   "execution_count": 5,
   "metadata": {
    "editable": true
   },
   "outputs": [],
   "source": [
    "spark = create_spark_session()"
   ]
  },
  {
   "cell_type": "code",
   "execution_count": 6,
   "metadata": {
    "editable": true
   },
   "outputs": [
    {
     "data": {
      "text/html": [
       "\n",
       "            <div>\n",
       "                <p><b>SparkSession - in-memory</b></p>\n",
       "                \n",
       "        <div>\n",
       "            <p><b>SparkContext</b></p>\n",
       "\n",
       "            <p><a href=\"http://97fa76f58453:4040\">Spark UI</a></p>\n",
       "\n",
       "            <dl>\n",
       "              <dt>Version</dt>\n",
       "                <dd><code>v2.4.3</code></dd>\n",
       "              <dt>Master</dt>\n",
       "                <dd><code>local[*]</code></dd>\n",
       "              <dt>AppName</dt>\n",
       "                <dd><code>pyspark-shell</code></dd>\n",
       "            </dl>\n",
       "        </div>\n",
       "        \n",
       "            </div>\n",
       "        "
      ],
      "text/plain": [
       "<pyspark.sql.session.SparkSession at 0x7f1a60cb2ba8>"
      ]
     },
     "execution_count": 6,
     "metadata": {},
     "output_type": "execute_result"
    }
   ],
   "source": [
    "spark"
   ]
  },
  {
   "cell_type": "code",
   "execution_count": null,
   "metadata": {
    "editable": true
   },
   "outputs": [],
   "source": []
  },
  {
   "cell_type": "markdown",
   "metadata": {
    "editable": true
   },
   "source": [
    "### Process Song Data"
   ]
  },
  {
   "cell_type": "code",
   "execution_count": 7,
   "metadata": {
    "editable": true
   },
   "outputs": [
    {
     "name": "stdout",
     "output_type": "stream",
     "text": [
      "./data/song_data/*/*/*/*.json\n"
     ]
    }
   ],
   "source": [
    "# Input path\n",
    "input_data = \"./data/\" #\"s3a://udacity-dend/\"\n",
    "song_data = input_data + \"song_data/*/*/*/*.json\"\n",
    "\n",
    "print(song_data)"
   ]
  },
  {
   "cell_type": "code",
   "execution_count": 8,
   "metadata": {
    "editable": true
   },
   "outputs": [],
   "source": [
    "# read song data file\n",
    "df = spark.read.json(song_data)"
   ]
  },
  {
   "cell_type": "code",
   "execution_count": 9,
   "metadata": {
    "editable": true
   },
   "outputs": [
    {
     "name": "stdout",
     "output_type": "stream",
     "text": [
      "root\n",
      " |-- artist_id: string (nullable = true)\n",
      " |-- artist_latitude: double (nullable = true)\n",
      " |-- artist_location: string (nullable = true)\n",
      " |-- artist_longitude: double (nullable = true)\n",
      " |-- artist_name: string (nullable = true)\n",
      " |-- duration: double (nullable = true)\n",
      " |-- num_songs: long (nullable = true)\n",
      " |-- song_id: string (nullable = true)\n",
      " |-- title: string (nullable = true)\n",
      " |-- year: long (nullable = true)\n",
      "\n"
     ]
    }
   ],
   "source": [
    "df.printSchema()"
   ]
  },
  {
   "cell_type": "code",
   "execution_count": 10,
   "metadata": {
    "editable": true
   },
   "outputs": [
    {
     "name": "stdout",
     "output_type": "stream",
     "text": [
      "+------------------+---------------+-----------------+----------------+--------------------+---------+---------+------------------+--------------------+----+\n",
      "|         artist_id|artist_latitude|  artist_location|artist_longitude|         artist_name| duration|num_songs|           song_id|               title|year|\n",
      "+------------------+---------------+-----------------+----------------+--------------------+---------+---------+------------------+--------------------+----+\n",
      "|ARDR4AC1187FB371A1|           null|                 |            null|Montserrat Caball...|511.16363|        1|SOBAYLL12A8C138AF9|Sono andati? Fing...|   0|\n",
      "|AREBBGV1187FB523D2|           null|      Houston, TX|            null|Mike Jones (Featu...|173.66159|        1|SOOLYAZ12A6701F4A6|Laws Patrolling (...|   0|\n",
      "|ARMAC4T1187FB3FA4C|       40.82624|Morris Plains, NJ|       -74.47995|The Dillinger Esc...|207.77751|        1|SOBBUGU12A8C13E95D|Setting Fire to S...|2004|\n",
      "|ARPBNLO1187FB3D52F|       40.71455|     New York, NY|       -74.00712|            Tiny Tim| 43.36281|        1|SOAOIBZ12AB01815BE|I Hold Your Hand ...|2000|\n",
      "|ARDNS031187B9924F0|       32.67828|          Georgia|       -83.22295|          Tim Wilson|186.48771|        1|SONYPOM12A8C13B2D7|I Think My Wife I...|2005|\n",
      "+------------------+---------------+-----------------+----------------+--------------------+---------+---------+------------------+--------------------+----+\n",
      "only showing top 5 rows\n",
      "\n"
     ]
    }
   ],
   "source": [
    "df.show(5)"
   ]
  },
  {
   "cell_type": "markdown",
   "metadata": {
    "editable": true
   },
   "source": [
    "#### Songs Table"
   ]
  },
  {
   "cell_type": "code",
   "execution_count": 11,
   "metadata": {
    "editable": true
   },
   "outputs": [],
   "source": [
    "# extract columns to create songs table\n",
    "songs_table = df.select(*[\"song_id\", \"title\", \"artist_id\", \"year\", \"duration\"]).orderBy(\"song_id\")"
   ]
  },
  {
   "cell_type": "code",
   "execution_count": 12,
   "metadata": {
    "editable": true
   },
   "outputs": [
    {
     "name": "stdout",
     "output_type": "stream",
     "text": [
      "+------------------+--------------------+------------------+----+---------+\n",
      "|           song_id|               title|         artist_id|year| duration|\n",
      "+------------------+--------------------+------------------+----+---------+\n",
      "|SOAOIBZ12AB01815BE|I Hold Your Hand ...|ARPBNLO1187FB3D52F|2000| 43.36281|\n",
      "|SOBAYLL12A8C138AF9|Sono andati? Fing...|ARDR4AC1187FB371A1|   0|511.16363|\n",
      "|SOBBUGU12A8C13E95D|Setting Fire to S...|ARMAC4T1187FB3FA4C|2004|207.77751|\n",
      "|SOBBXLX12A58A79DDA|Erica (2005 Digit...|AREDBBQ1187B98AFF5|   0|138.63138|\n",
      "|SOBCOSW12A8C13D398|  Rumba De Barcelona|AR7SMBG1187B9B9066|   0|218.38322|\n",
      "+------------------+--------------------+------------------+----+---------+\n",
      "only showing top 5 rows\n",
      "\n"
     ]
    }
   ],
   "source": [
    "songs_table.show(5)"
   ]
  },
  {
   "cell_type": "code",
   "execution_count": 13,
   "metadata": {
    "editable": true
   },
   "outputs": [
    {
     "data": {
      "text/plain": [
       "'./data/output_data/songs_table/songs_table_2021-05-19-01-26-45-804473'"
      ]
     },
     "execution_count": 13,
     "metadata": {},
     "output_type": "execute_result"
    }
   ],
   "source": [
    "# output Path\n",
    "output_data = \"./data/output_data/\" #\"s3a://project4-data/output_data/\"\n",
    "songs_table_path = output_data + \"songs_table/\" + \"songs_table\" + \"_\" + datetime.now().strftime('%Y-%m-%d-%H-%M-%S-%f')\n",
    "songs_table_path"
   ]
  },
  {
   "cell_type": "code",
   "execution_count": 14,
   "metadata": {
    "editable": true
   },
   "outputs": [],
   "source": [
    "songs_table.write.partitionBy(\"year\", \"artist_id\").parquet(songs_table_path)"
   ]
  },
  {
   "cell_type": "code",
   "execution_count": null,
   "metadata": {
    "editable": true
   },
   "outputs": [],
   "source": []
  },
  {
   "cell_type": "markdown",
   "metadata": {
    "editable": true
   },
   "source": [
    "#### Artists Table"
   ]
  },
  {
   "cell_type": "code",
   "execution_count": 15,
   "metadata": {
    "editable": true
   },
   "outputs": [
    {
     "name": "stdout",
     "output_type": "stream",
     "text": [
      "+------------------+------------------+--------------+--------+---------+\n",
      "|         artist_id|              name|      location|latitude|longitude|\n",
      "+------------------+------------------+--------------+--------+---------+\n",
      "|ARYKCQI1187FB3B18F|             Tesla|              |    null|     null|\n",
      "|ARXR32B1187FB57099|               Gob|              |    null|     null|\n",
      "|ARWB3G61187FB49404|       Steve Morse|Hamilton, Ohio|    null|     null|\n",
      "|ARVBRGZ1187FB4675A|      Gwen Stefani|              |    null|     null|\n",
      "|ARULZCI1241B9C8611|Luna Orbit Project|              |    null|     null|\n",
      "+------------------+------------------+--------------+--------+---------+\n",
      "only showing top 5 rows\n",
      "\n"
     ]
    }
   ],
   "source": [
    "# extract columns to create artists table\n",
    "artists_table = df.select(*['artist_id', 'artist_name', 'artist_location', 'artist_latitude', 'artist_longitude']).orderBy(\"artist_id\", ascending=False)\n",
    "artists_table = artists_table.withColumnRenamed(\"artist_name\", \"name\") \\\n",
    "                        .withColumnRenamed(\"artist_location\", \"location\") \\\n",
    "                        .withColumnRenamed(\"artist_latitude\", \"latitude\") \\\n",
    "                        .withColumnRenamed(\"artist_longitude\", \"longitude\")\n",
    "\n",
    "artists_table.show(5)"
   ]
  },
  {
   "cell_type": "code",
   "execution_count": 17,
   "metadata": {
    "editable": true
   },
   "outputs": [
    {
     "data": {
      "text/plain": [
       "'./data/output_data/artists_table/artists_table_2021-05-19-01-27-18-560659'"
      ]
     },
     "execution_count": 17,
     "metadata": {},
     "output_type": "execute_result"
    }
   ],
   "source": [
    "# output Path\n",
    "output_data = \"./data/output_data/\" #\"s3a://\"\n",
    "artists_table_path = output_data + \"artists_table/\" + \"artists_table\" + \"_\" + datetime.now().strftime('%Y-%m-%d-%H-%M-%S-%f')\n",
    "artists_table_path"
   ]
  },
  {
   "cell_type": "code",
   "execution_count": 18,
   "metadata": {
    "editable": true
   },
   "outputs": [],
   "source": [
    "artists_table.write.parquet(artists_table_path)"
   ]
  },
  {
   "cell_type": "code",
   "execution_count": null,
   "metadata": {
    "editable": true
   },
   "outputs": [],
   "source": []
  },
  {
   "cell_type": "markdown",
   "metadata": {
    "editable": true
   },
   "source": [
    "### Process Log Data"
   ]
  },
  {
   "cell_type": "code",
   "execution_count": 19,
   "metadata": {
    "editable": true
   },
   "outputs": [
    {
     "name": "stdout",
     "output_type": "stream",
     "text": [
      "./data/log_data/*.json\n"
     ]
    }
   ],
   "source": [
    "# Input path\n",
    "input_data = \"./data/\" #\"s3a://udacity-dend/\"\n",
    "log_data = input_data + \"log_data/*.json\"\n",
    "\n",
    "print(log_data)"
   ]
  },
  {
   "cell_type": "code",
   "execution_count": 20,
   "metadata": {
    "editable": true
   },
   "outputs": [],
   "source": [
    "# read log data file \n",
    "df_log = spark.read.json(log_data)"
   ]
  },
  {
   "cell_type": "code",
   "execution_count": 21,
   "metadata": {
    "editable": true
   },
   "outputs": [
    {
     "name": "stdout",
     "output_type": "stream",
     "text": [
      "root\n",
      " |-- artist: string (nullable = true)\n",
      " |-- auth: string (nullable = true)\n",
      " |-- firstName: string (nullable = true)\n",
      " |-- gender: string (nullable = true)\n",
      " |-- itemInSession: long (nullable = true)\n",
      " |-- lastName: string (nullable = true)\n",
      " |-- length: double (nullable = true)\n",
      " |-- level: string (nullable = true)\n",
      " |-- location: string (nullable = true)\n",
      " |-- method: string (nullable = true)\n",
      " |-- page: string (nullable = true)\n",
      " |-- registration: double (nullable = true)\n",
      " |-- sessionId: long (nullable = true)\n",
      " |-- song: string (nullable = true)\n",
      " |-- status: long (nullable = true)\n",
      " |-- ts: long (nullable = true)\n",
      " |-- userAgent: string (nullable = true)\n",
      " |-- userId: string (nullable = true)\n",
      "\n"
     ]
    }
   ],
   "source": [
    "df_log.printSchema()"
   ]
  },
  {
   "cell_type": "code",
   "execution_count": 22,
   "metadata": {
    "editable": true
   },
   "outputs": [
    {
     "name": "stdout",
     "output_type": "stream",
     "text": [
      "+-----------+---------+---------+------+-------------+--------+---------+-----+--------------------+------+--------+-----------------+---------+---------------+------+-------------+--------------------+------+\n",
      "|     artist|     auth|firstName|gender|itemInSession|lastName|   length|level|            location|method|    page|     registration|sessionId|           song|status|           ts|           userAgent|userId|\n",
      "+-----------+---------+---------+------+-------------+--------+---------+-----+--------------------+------+--------+-----------------+---------+---------------+------+-------------+--------------------+------+\n",
      "|   Harmonia|Logged In|     Ryan|     M|            0|   Smith|655.77751| free|San Jose-Sunnyval...|   PUT|NextSong|1.541016707796E12|      583|  Sehr kosmisch|   200|1542241826796|\"Mozilla/5.0 (X11...|    26|\n",
      "|The Prodigy|Logged In|     Ryan|     M|            1|   Smith|260.07465| free|San Jose-Sunnyval...|   PUT|NextSong|1.541016707796E12|      583|The Big Gundown|   200|1542242481796|\"Mozilla/5.0 (X11...|    26|\n",
      "|      Train|Logged In|     Ryan|     M|            2|   Smith|205.45261| free|San Jose-Sunnyval...|   PUT|NextSong|1.541016707796E12|      583|       Marry Me|   200|1542242741796|\"Mozilla/5.0 (X11...|    26|\n",
      "|       null|Logged In|    Wyatt|     M|            0|   Scott|     null| free|Eureka-Arcata-For...|   GET|    Home|1.540872073796E12|      563|           null|   200|1542247071796|Mozilla/5.0 (Wind...|     9|\n",
      "|       null|Logged In|   Austin|     M|            0| Rosales|     null| free|New York-Newark-J...|   GET|    Home|1.541059521796E12|      521|           null|   200|1542252577796|Mozilla/5.0 (Wind...|    12|\n",
      "+-----------+---------+---------+------+-------------+--------+---------+-----+--------------------+------+--------+-----------------+---------+---------------+------+-------------+--------------------+------+\n",
      "only showing top 5 rows\n",
      "\n"
     ]
    }
   ],
   "source": [
    "df_log.show(5)"
   ]
  },
  {
   "cell_type": "code",
   "execution_count": 23,
   "metadata": {
    "editable": true
   },
   "outputs": [
    {
     "name": "stdout",
     "output_type": "stream",
     "text": [
      "+-----------+---------+---------+------+-------------+--------+---------+-----+--------------------+------+--------+-----------------+---------+--------------------+------+-------------+--------------------+------+\n",
      "|     artist|     auth|firstName|gender|itemInSession|lastName|   length|level|            location|method|    page|     registration|sessionId|                song|status|           ts|           userAgent|userId|\n",
      "+-----------+---------+---------+------+-------------+--------+---------+-----+--------------------+------+--------+-----------------+---------+--------------------+------+-------------+--------------------+------+\n",
      "|   Harmonia|Logged In|     Ryan|     M|            0|   Smith|655.77751| free|San Jose-Sunnyval...|   PUT|NextSong|1.541016707796E12|      583|       Sehr kosmisch|   200|1542241826796|\"Mozilla/5.0 (X11...|    26|\n",
      "|The Prodigy|Logged In|     Ryan|     M|            1|   Smith|260.07465| free|San Jose-Sunnyval...|   PUT|NextSong|1.541016707796E12|      583|     The Big Gundown|   200|1542242481796|\"Mozilla/5.0 (X11...|    26|\n",
      "|      Train|Logged In|     Ryan|     M|            2|   Smith|205.45261| free|San Jose-Sunnyval...|   PUT|NextSong|1.541016707796E12|      583|            Marry Me|   200|1542242741796|\"Mozilla/5.0 (X11...|    26|\n",
      "|Sony Wonder|Logged In|   Samuel|     M|            0|Gonzalez|218.06975| free|Houston-The Woodl...|   PUT|NextSong|1.540492941796E12|      597|           Blackbird|   200|1542253449796|\"Mozilla/5.0 (Mac...|    61|\n",
      "|  Van Halen|Logged In|    Tegan|     F|            2|  Levine|289.38404| paid|Portland-South Po...|   PUT|NextSong|1.540794356796E12|      602|Best Of Both Worl...|   200|1542260935796|\"Mozilla/5.0 (Mac...|    80|\n",
      "+-----------+---------+---------+------+-------------+--------+---------+-----+--------------------+------+--------+-----------------+---------+--------------------+------+-------------+--------------------+------+\n",
      "only showing top 5 rows\n",
      "\n"
     ]
    }
   ],
   "source": [
    "# filter by actions for song plays\n",
    "df_filtered = df_log.filter(df_log[\"page\"]=='NextSong')\n",
    "df_filtered.show(5)"
   ]
  },
  {
   "cell_type": "markdown",
   "metadata": {
    "editable": true
   },
   "source": [
    "#### Users Table"
   ]
  },
  {
   "cell_type": "code",
   "execution_count": 24,
   "metadata": {
    "editable": true
   },
   "outputs": [
    {
     "name": "stdout",
     "output_type": "stream",
     "text": [
      "+-------+----------+---------+------+-----+\n",
      "|user_id|first_name|last_name|gender|level|\n",
      "+-------+----------+---------+------+-----+\n",
      "|     66|     Kevin| Arellano|     M| free|\n",
      "|     34|    Evelin|    Ayala|     F| free|\n",
      "|     99|       Ann|    Banks|     F| free|\n",
      "|    100|     Adler|  Barrera|     M| free|\n",
      "|     42|    Harper|  Barrett|     M| paid|\n",
      "+-------+----------+---------+------+-----+\n",
      "only showing top 5 rows\n",
      "\n"
     ]
    }
   ],
   "source": [
    "# extract columns for users table\n",
    "users_table = df_filtered.select(*['userId', 'firstName', 'lastName', 'gender', 'level']).orderBy(\"lastName\").dropDuplicates()\n",
    "users_table = users_table.withColumnRenamed('userId', 'user_id') \\\n",
    "                .withColumnRenamed('firstName', 'first_name') \\\n",
    "                .withColumnRenamed('lastName', 'last_name')\n",
    "\n",
    "users_table.show(5)"
   ]
  },
  {
   "cell_type": "code",
   "execution_count": 25,
   "metadata": {
    "editable": true
   },
   "outputs": [
    {
     "name": "stdout",
     "output_type": "stream",
     "text": [
      "./data/output_data/users_table/users_table_2021-05-19-01-28-40-241327\n"
     ]
    }
   ],
   "source": [
    "# output Path\n",
    "output_data = \"./data/output_data/\" #\"s3a://\"\n",
    "users_table_path = output_data + \"users_table/\" + \"users_table\" + \"_\" + datetime.now().strftime('%Y-%m-%d-%H-%M-%S-%f')\n",
    "print(users_table_path)\n",
    "\n",
    "users_table.write.parquet(users_table_path)"
   ]
  },
  {
   "cell_type": "markdown",
   "metadata": {
    "editable": true
   },
   "source": [
    "#### Time Table"
   ]
  },
  {
   "cell_type": "code",
   "execution_count": 26,
   "metadata": {
    "editable": true
   },
   "outputs": [
    {
     "name": "stdout",
     "output_type": "stream",
     "text": [
      "+-----------------------+\n",
      "|timestamp              |\n",
      "+-----------------------+\n",
      "|2018-11-15 00:30:26.796|\n",
      "|2018-11-15 00:41:21.796|\n",
      "|2018-11-15 00:45:41.796|\n",
      "|2018-11-15 03:44:09.796|\n",
      "|2018-11-15 05:48:55.796|\n",
      "+-----------------------+\n",
      "only showing top 5 rows\n",
      "\n"
     ]
    }
   ],
   "source": [
    "# create timestamp column from original timestamp column\n",
    "get_timestamp = udf(f=lambda ts: datetime.fromtimestamp(ts/1000.0), returnType=TimestampType())\n",
    "df_filtered = df_filtered.withColumn(\"timestamp\", get_timestamp(\"ts\"))\n",
    "df_filtered.select(\"timestamp\").show(5, truncate=False)"
   ]
  },
  {
   "cell_type": "code",
   "execution_count": 27,
   "metadata": {
    "editable": true
   },
   "outputs": [
    {
     "name": "stdout",
     "output_type": "stream",
     "text": [
      "+-------------------+\n",
      "|datetime           |\n",
      "+-------------------+\n",
      "|2018-11-15 00:30:26|\n",
      "|2018-11-15 00:41:21|\n",
      "|2018-11-15 00:45:41|\n",
      "|2018-11-15 03:44:09|\n",
      "|2018-11-15 05:48:55|\n",
      "+-------------------+\n",
      "only showing top 5 rows\n",
      "\n"
     ]
    }
   ],
   "source": [
    "# create datetime column from original timestamp column\n",
    "get_datetime = udf(lambda ts: datetime.fromtimestamp(ts/1000.0).strftime('%Y-%m-%d %H:%M:%S'), returnType=StringType())\n",
    "df_filtered = df_filtered.withColumn(\"datetime\", get_datetime(\"ts\"))\n",
    "df_filtered.select(\"datetime\").show(5, truncate=False)"
   ]
  },
  {
   "cell_type": "code",
   "execution_count": 28,
   "metadata": {
    "editable": true
   },
   "outputs": [
    {
     "name": "stdout",
     "output_type": "stream",
     "text": [
      "+-------------------+----+---+----+-----+----+-------+\n",
      "|         start_time|hour|day|week|month|year|weekday|\n",
      "+-------------------+----+---+----+-----+----+-------+\n",
      "|2018-11-15 11:35:35|  11| 15|  46|   11|2018|      5|\n",
      "|2018-11-21 09:36:21|   9| 21|  47|   11|2018|      4|\n",
      "|2018-11-14 05:11:42|   5| 14|  46|   11|2018|      4|\n",
      "|2018-11-14 08:10:20|   8| 14|  46|   11|2018|      4|\n",
      "|2018-11-28 22:24:08|  22| 28|  48|   11|2018|      4|\n",
      "+-------------------+----+---+----+-----+----+-------+\n",
      "only showing top 5 rows\n",
      "\n"
     ]
    }
   ],
   "source": [
    "# extract columns to create time table\n",
    "df_filtered.createOrReplaceTempView(\"df_fil\")\n",
    "\n",
    "time_table = spark.sql('''SELECT DISTINCT datetime AS start_time,\n",
    "                                          HOUR(datetime) AS hour,\n",
    "                                          DAY(datetime) AS day,\n",
    "                                          WEEKOFYEAR(datetime) AS week,\n",
    "                                          MONTH(datetime) AS month,\n",
    "                                          YEAR(datetime) AS year,\n",
    "                                          DAYOFWEEK(datetime) AS weekday\n",
    "                          FROM df_fil\n",
    "''')\n",
    "\n",
    "time_table.show(5)"
   ]
  },
  {
   "cell_type": "code",
   "execution_count": 29,
   "metadata": {
    "editable": true
   },
   "outputs": [
    {
     "name": "stdout",
     "output_type": "stream",
     "text": [
      "./data/output_data/time_table/time_table_2021-05-19-01-29-15-280603\n"
     ]
    }
   ],
   "source": [
    "# write time table to parquet files partitioned by year and month\n",
    "# output Path\n",
    "output_data = \"./data/output_data/\" #\"s3a://\"\n",
    "time_table_path = output_data + \"time_table/\" + \"time_table\" + \"_\" + datetime.now().strftime('%Y-%m-%d-%H-%M-%S-%f')\n",
    "print(time_table_path)\n",
    "\n",
    "time_table.write.parquet(time_table_path)\n"
   ]
  },
  {
   "cell_type": "code",
   "execution_count": null,
   "metadata": {
    "editable": true
   },
   "outputs": [],
   "source": []
  },
  {
   "cell_type": "markdown",
   "metadata": {
    "editable": true
   },
   "source": [
    "#### Song Plays Table"
   ]
  },
  {
   "cell_type": "code",
   "execution_count": 30,
   "metadata": {
    "editable": true
   },
   "outputs": [],
   "source": [
    "# read in song data to use for songplays table\n",
    "song_df = spark.read.json(input_data + \"song_data/*/*/*/*.json\")"
   ]
  },
  {
   "cell_type": "code",
   "execution_count": 31,
   "metadata": {
    "editable": true
   },
   "outputs": [
    {
     "data": {
      "text/plain": [
       "1"
      ]
     },
     "execution_count": 31,
     "metadata": {},
     "output_type": "execute_result"
    }
   ],
   "source": [
    "df_joined = df_filtered.join(song_df, on=(df_filtered.artist==song_df.artist_name) & (df_filtered.song==song_df.title), how='inner')\n",
    "df_joined = df_joined.withColumn(\"songplay_id\", F.monotonically_increasing_id())\n",
    "\n",
    "df_joined.count()"
   ]
  },
  {
   "cell_type": "code",
   "execution_count": 32,
   "metadata": {
    "editable": true
   },
   "outputs": [
    {
     "name": "stdout",
     "output_type": "stream",
     "text": [
      "+-----------+--------------------+-------+-----+------------------+------------------+----------+---------+--------------------+\n",
      "|songplay_id|          start_time|user_id|level|           song_id|         artist_id|session_id| location|          user_agent|\n",
      "+-----------+--------------------+-------+-----+------------------+------------------+----------+---------+--------------------+\n",
      "|          0|2018-11-21 21:56:...|     15| paid|SOZCTXZ12AB0182364|AR5KOSW1187FB35FF4|       818|Dubai UAE|\"Mozilla/5.0 (X11...|\n",
      "+-----------+--------------------+-------+-----+------------------+------------------+----------+---------+--------------------+\n",
      "\n"
     ]
    }
   ],
   "source": [
    "# extract columns from joined song and log datasets to create songplays table \n",
    "df_joined.createOrReplaceTempView(\"df_joined\")\n",
    "\n",
    "songplays_table = spark.sql('''SELECT songplay_id,\n",
    "                                      timestamp AS start_time,\n",
    "                                      userId AS user_id,\n",
    "                                      level,\n",
    "                                      song_id,\n",
    "                                      artist_id,\n",
    "                                      sessionId AS session_id,\n",
    "                                      artist_location AS location,\n",
    "                                      userAgent AS user_agent\n",
    "                               FROM df_joined\n",
    "                               ORDER BY (user_id, session_id)\n",
    "''')\n",
    "\n",
    "songplays_table.show(5)"
   ]
  },
  {
   "cell_type": "code",
   "execution_count": null,
   "metadata": {
    "editable": true
   },
   "outputs": [],
   "source": []
  },
  {
   "cell_type": "code",
   "execution_count": 33,
   "metadata": {
    "editable": true
   },
   "outputs": [
    {
     "name": "stdout",
     "output_type": "stream",
     "text": [
      "./data/output_data/songplays_table/songplays_table_2021-05-19-01-29-49-823252\n"
     ]
    }
   ],
   "source": [
    "# write songplays table to parquet files partitioned by year and month\n",
    "# output Path\n",
    "output_data = \"./data/output_data/\" #\"s3a://\"\n",
    "songplays_table_path = output_data + \"songplays_table/\" + \"songplays_table\" + \"_\" + datetime.now().strftime('%Y-%m-%d-%H-%M-%S-%f')\n",
    "print(songplays_table_path)\n",
    "\n",
    "songplays_table.write.parquet(songplays_table_path)"
   ]
  },
  {
   "cell_type": "code",
   "execution_count": null,
   "metadata": {
    "editable": true
   },
   "outputs": [],
   "source": []
  },
  {
   "cell_type": "markdown",
   "metadata": {
    "editable": true
   },
   "source": [
    "### Queries on Songplay analysis"
   ]
  },
  {
   "cell_type": "code",
   "execution_count": 34,
   "metadata": {
    "editable": true
   },
   "outputs": [
    {
     "name": "stdout",
     "output_type": "stream",
     "text": [
      "Number of records in songs table:  71\n",
      "Number of records in users table:  104\n",
      "Number of records in artists table:  71\n",
      "Number of records in time table:  6813\n",
      "Number of records in songplays table:  1\n"
     ]
    }
   ],
   "source": [
    "table_count = lambda table: table.count() \n",
    "\n",
    "print(\"Number of records in songs table: \", table_count(songs_table))\n",
    "print(\"Number of records in users table: \", table_count(users_table))  \n",
    "print(\"Number of records in artists table: \", table_count(artists_table))  \n",
    "print(\"Number of records in time table: \", table_count(time_table))  \n",
    "print(\"Number of records in songplays table: \", table_count(songplays_table))"
   ]
  },
  {
   "cell_type": "code",
   "execution_count": null,
   "metadata": {
    "editable": true
   },
   "outputs": [],
   "source": []
  },
  {
   "cell_type": "code",
   "execution_count": 35,
   "metadata": {
    "editable": true
   },
   "outputs": [
    {
     "name": "stdout",
     "output_type": "stream",
     "text": [
      "+--------------+----+---------+\n",
      "|         title|year| duration|\n",
      "+--------------+----+---------+\n",
      "|Setanta matins|   0|269.58322|\n",
      "+--------------+----+---------+\n",
      "\n"
     ]
    }
   ],
   "source": [
    "# Get info of songs with duration greater than 200s limit to 10 records\n",
    "songplays_table.join(songs_table, on=songs_table.song_id==songplays_table.song_id) \\\n",
    "                .filter(\"duration>200\") \\\n",
    "                .select(\"title\", \"year\", \"duration\").limit(10).show()"
   ]
  },
  {
   "cell_type": "code",
   "execution_count": null,
   "metadata": {
    "editable": true
   },
   "outputs": [],
   "source": []
  },
  {
   "cell_type": "code",
   "execution_count": null,
   "metadata": {
    "editable": true
   },
   "outputs": [],
   "source": []
  }
 ],
 "metadata": {
  "kernelspec": {
   "display_name": "Python 3",
   "language": "python",
   "name": "python3"
  },
  "language_info": {
   "codemirror_mode": {
    "name": "ipython",
    "version": 3
   },
   "file_extension": ".py",
   "mimetype": "text/x-python",
   "name": "python",
   "nbconvert_exporter": "python",
   "pygments_lexer": "ipython3",
   "version": "3.6.3"
  }
 },
 "nbformat": 4,
 "nbformat_minor": 4
}
