{
 "cells": [
  {
   "cell_type": "code",
   "execution_count": 1,
   "metadata": {
    "editable": true
   },
   "outputs": [],
   "source": [
    "import configparser\n",
    "from datetime import datetime\n",
    "import os\n",
    "from pyspark.sql import SparkSession\n",
    "from pyspark.sql.functions import udf, col\n",
    "from pyspark.sql.functions import year, month, dayofmonth, hour, weekofyear, date_format\n",
    "from pyspark.sql import functions as F\n",
    "from pyspark.sql.types import TimestampType, StringType"
   ]
  },
  {
   "cell_type": "code",
   "execution_count": 2,
   "metadata": {
    "editable": true
   },
   "outputs": [],
   "source": [
    "config = configparser.ConfigParser()\n",
    "config.read('dl.cfg')\n",
    "\n",
    "os.environ['AWS_ACCESS_KEY_ID']=config['AWS']['AWS_ACCESS_KEY_ID']\n",
    "os.environ['AWS_SECRET_ACCESS_KEY']=config['AWS']['AWS_SECRET_ACCESS_KEY']"
   ]
  },
  {
   "cell_type": "code",
   "execution_count": 3,
   "metadata": {
    "editable": true
   },
   "outputs": [],
   "source": [
    "def create_spark_session():\n",
    "    \"\"\"\n",
    "    Create SPARK session to process data\n",
    "    \n",
    "    Output:\n",
    "    spark -- SPARK session\n",
    "    \"\"\"\n",
    "    \n",
    "    spark = SparkSession \\\n",
    "        .builder \\\n",
    "        .config(\"spark.jars.packages\", \"org.apache.hadoop:hadoop-aws:2.7.0\") \\\n",
    "        .getOrCreate()\n",
    "    return spark\n",
    "\n",
    "\n",
    "\n",
    "def process_song_data(spark, input_data, output_data):\n",
    "    \"\"\"\n",
    "    Extract and load JSON input data (song_data) from input_data path.\n",
    "    Process the extracted data. Extract relevant columns to create songs_table and artists_table.\n",
    "    Store the queried data as parquet files at output_data path.\n",
    "    \n",
    "    Input arguments:\n",
    "    spark -- reference to SPARK session\n",
    "    input_data -- path to input_data to be processed (song_data)\n",
    "    output_data -- path to location to store the output (parquet files)\n",
    "    \n",
    "    Output:\n",
    "    songs_table -- reference to songs_table data\n",
    "    artists_table -- reference to artists_table data\n",
    "    \"\"\"\n",
    "    \n",
    "    # get filepath to song data file\n",
    "    song_data = input_data + \"song_data/*/*/*/*.json\"\n",
    "    \n",
    "    # read song data file\n",
    "    df = spark.read.json(song_data)\n",
    "\n",
    "    # extract columns to create songs table\n",
    "    songs_table = df.select(*[\"song_id\", \"title\", \"artist_id\", \"year\", \"duration\"])\n",
    "    songs_table = songs_table.dropDuplicates([\"song_id\"])\n",
    "    \n",
    "    # write songs table to parquet files partitioned by year and artist\n",
    "    songs_table.write.partitionBy(\"year\", \"artist_id\").parquet(output_data + \"songs_table/\" + \"songs_table\" + \"_\" + datetime.now().strftime('%Y-%m-%d-%H-%M-%S-%f'))\n",
    "\n",
    "    # extract columns to create artists table\n",
    "    artists_table = df.select(*['artist_id', 'artist_name', 'artist_location', 'artist_latitude', 'artist_longitude']) \\\n",
    "                      .orderBy(\"artist_id\", ascending=False) \\\n",
    "                      .dropDuplicates([\"artist_id\"])\n",
    "    \n",
    "    artists_table = artists_table.withColumnRenamed(\"artist_name\", \"name\") \\\n",
    "                        .withColumnRenamed(\"artist_location\", \"location\") \\\n",
    "                        .withColumnRenamed(\"artist_latitude\", \"latitude\") \\\n",
    "                        .withColumnRenamed(\"artist_longitude\", \"longitude\")\n",
    "    \n",
    "    # write artists table to parquet files\n",
    "    artists_table.write.parquet(output_data + \"artists_table/\" + \"artists_table\" + \"_\" + datetime.now().strftime('%Y-%m-%d-%H-%M-%S-%f'))\n",
    "    return songs_table, artists_table\n",
    "\n",
    "\n",
    "\n",
    "def process_log_data(spark, input_data, output_data):\n",
    "    \"\"\"\n",
    "    Extract and load JSON input data (log_data) from input_data path.\n",
    "    Process the extracted data. Extract relevant columns to create users_table and time_table.\n",
    "    Load song_data and join wih log_data. Use joined data/table to extract relevant columns to create songplays_table.\n",
    "    Store the queried data as parquet files at output_data path.\n",
    "    \n",
    "    Input arguments:\n",
    "    spark -- reference to SPARK session\n",
    "    input_data -- path to input_data to be processed (log_data)\n",
    "    output_data -- path to location to store the output (parquet files)\n",
    "    \n",
    "    Output:\n",
    "    users_table -- reference to songs_table data\n",
    "    time_table -- reference to time_table data\n",
    "    songplays_table -- reference to songplays_table data\n",
    "    \"\"\"\n",
    "    \n",
    "    # get filepath to log data file\n",
    "    log_data = input_data + \"log_data/*.json\"\n",
    "\n",
    "    # read log data file\n",
    "    df = spark.read.json(log_data)\n",
    "    \n",
    "    # filter by actions for song plays\n",
    "    df = df.filter(df[\"page\"]=='NextSong')\n",
    "\n",
    "    # extract columns for users table    \n",
    "    users_table = df.select(*['userId', 'firstName', 'lastName', 'gender', 'level']).orderBy(\"lastName\").dropDuplicates([\"userId\"])\n",
    "    users_table = users_table.withColumnRenamed('userId', 'user_id') \\\n",
    "                        .withColumnRenamed('firstName', 'first_name') \\\n",
    "                        .withColumnRenamed('lastName', 'last_name')\n",
    "    \n",
    "    # write users table to parquet files\n",
    "    users_table.write.parquet(output_data + \"users_table/\" + \"users_table\" + \"_\" + datetime.now().strftime('%Y-%m-%d-%H-%M-%S-%f'))\n",
    "\n",
    "    # create timestamp column from original timestamp column\n",
    "    get_timestamp = udf(f=lambda ts: datetime.fromtimestamp(ts/1000.0), returnType=TimestampType())\n",
    "    df = df.withColumn(\"timestamp\", get_timestamp(\"ts\"))\n",
    "    \n",
    "    # create datetime column from original timestamp column\n",
    "    get_datetime = udf(lambda ts: datetime.fromtimestamp(ts/1000.0).strftime('%Y-%m-%d %H:%M:%S'), returnType=StringType())\n",
    "    df = df.withColumn(\"datetime\", get_datetime(\"ts\"))\n",
    "    \n",
    "    # extract columns to create time table\n",
    "    df.createOrReplaceTempView(\"df_fil\")\n",
    "    time_table = spark.sql('''SELECT DISTINCT datetime AS start_time,\n",
    "                                          HOUR(datetime) AS hour,\n",
    "                                          DAY(datetime) AS day,\n",
    "                                          WEEKOFYEAR(datetime) AS week,\n",
    "                                          MONTH(datetime) AS month,\n",
    "                                          YEAR(datetime) AS year,\n",
    "                                          DAYOFWEEK(datetime) AS weekday\n",
    "                              FROM df_fil\n",
    "                        ''').dropDuplicates([\"start_time\"])\n",
    "    \n",
    "    # write time table to parquet files partitioned by year and month\n",
    "    time_table.write.partitionBy(\"year\", \"month\").parquet(output_data + \"time_table/\" + \"time_table\" + \"_\" + datetime.now().strftime('%Y-%m-%d-%H-%M-%S-%f'))\n",
    "\n",
    "    # read in song data to use for songplays table\n",
    "    song_df = spark.read.json(input_data + \"song_data/*/*/*/*.json\")\n",
    "\n",
    "    # extract columns from joined song and log datasets to create songplays table\n",
    "    df_joined = df.join(song_df, on=(df.artist==song_df.artist_name) & (df.song==song_df.title), how='inner')\n",
    "    df_joined = df_joined.withColumn(\"songplay_id\", F.monotonically_increasing_id())\n",
    "    df_joined.createOrReplaceTempView(\"df_joined\")\n",
    "\n",
    "    songplays_table = spark.sql('''SELECT songplay_id,\n",
    "                                          timestamp AS start_time,\n",
    "                                          userId AS user_id,\n",
    "                                          level,\n",
    "                                          song_id,\n",
    "                                          artist_id,\n",
    "                                          sessionId AS session_id,\n",
    "                                          artist_location AS location,\n",
    "                                          userAgent AS user_agent,\n",
    "                                          year,\n",
    "                                          MONTH(timestamp) AS month\n",
    "                                   FROM df_joined\n",
    "                                   ORDER BY (user_id, session_id)\n",
    "                        ''').dropDuplicates([\"songplay_id\"])\n",
    "\n",
    "    # write songplays table to parquet files partitioned by year and month\n",
    "    songplays_table.write.partitionBy(\"year\", \"month\").parquet(output_data + \"songplays_table/\" + \"songplays_table\" + \"_\" + datetime.now().strftime('%Y-%m-%d-%H-%M-%S-%f'))\n",
    "    return users_table, time_table, songplays_table\n"
   ]
  },
  {
   "cell_type": "code",
   "execution_count": 4,
   "metadata": {
    "editable": true
   },
   "outputs": [],
   "source": [
    "spark = create_spark_session()\n",
    "input_data = \"./data/\" #\"s3a://udacity-dend/\"\n",
    "output_data = \"./data/output_data/\" #\"s3a://project4-data/output_data/\""
   ]
  },
  {
   "cell_type": "code",
   "execution_count": 5,
   "metadata": {
    "editable": true
   },
   "outputs": [],
   "source": [
    "songs_table, artists_table = process_song_data(spark, input_data, output_data)    \n",
    "users_table, time_table, songplays_table = process_log_data(spark, input_data, output_data)"
   ]
  },
  {
   "cell_type": "code",
   "execution_count": 6,
   "metadata": {
    "editable": true
   },
   "outputs": [
    {
     "name": "stdout",
     "output_type": "stream",
     "text": [
      "Number of records in songs table:  71\n",
      "Number of records in users table:  96\n",
      "Number of records in artists table:  69\n",
      "Number of records in time table:  6813\n",
      "Number of records in songplays table:  1\n",
      "+--------------+----+---------+\n",
      "|         title|year| duration|\n",
      "+--------------+----+---------+\n",
      "|Setanta matins|   0|269.58322|\n",
      "+--------------+----+---------+\n",
      "\n",
      "None\n"
     ]
    }
   ],
   "source": [
    "### Sample Queries\n",
    "# Queries on Songplay analysis\n",
    "table_count = lambda table: table.count() \n",
    "print(\"Number of records in songs table: \", table_count(songs_table))\n",
    "print(\"Number of records in users table: \", table_count(users_table))  \n",
    "print(\"Number of records in artists table: \", table_count(artists_table))  \n",
    "print(\"Number of records in time table: \", table_count(time_table))  \n",
    "print(\"Number of records in songplays table: \", table_count(songplays_table))  \n",
    "    \n",
    "# Get info of songs with duration greater than 200s limit to 10 records\n",
    "songplays_table = songplays_table.drop(*['year', 'month'])\n",
    "print(songplays_table.join(songs_table, on=(songs_table.song_id==songplays_table.song_id)) \\\n",
    "                .filter(\"duration>200\") \\\n",
    "                .select(\"title\", \"year\", \"duration\").limit(10).show())"
   ]
  },
  {
   "cell_type": "code",
   "execution_count": null,
   "metadata": {
    "editable": true
   },
   "outputs": [],
   "source": []
  },
  {
   "cell_type": "code",
   "execution_count": null,
   "metadata": {
    "editable": true
   },
   "outputs": [],
   "source": []
  }
 ],
 "metadata": {
  "kernelspec": {
   "display_name": "Python 3",
   "language": "python",
   "name": "python3"
  },
  "language_info": {
   "codemirror_mode": {
    "name": "ipython",
    "version": 3
   },
   "file_extension": ".py",
   "mimetype": "text/x-python",
   "name": "python",
   "nbconvert_exporter": "python",
   "pygments_lexer": "ipython3",
   "version": "3.6.3"
  }
 },
 "nbformat": 4,
 "nbformat_minor": 4
}
